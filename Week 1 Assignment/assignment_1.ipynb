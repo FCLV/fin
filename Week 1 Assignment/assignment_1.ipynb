{
 "cells": [
  {
   "cell_type": "code",
   "execution_count": 2,
   "metadata": {},
   "outputs": [
    {
     "name": "stdout",
     "output_type": "stream",
     "text": [
      "Collecting statsmodels\n",
      "  Downloading statsmodels-0.14.0-cp38-cp38-win_amd64.whl (9.4 MB)\n",
      "     ---------------------------------------- 9.4/9.4 MB 3.1 MB/s eta 0:00:00\n",
      "Collecting patsy>=0.5.2\n",
      "  Downloading patsy-0.5.3-py2.py3-none-any.whl (233 kB)\n",
      "     -------------------------------------- 233.8/233.8 kB 4.8 MB/s eta 0:00:00\n",
      "Requirement already satisfied: scipy!=1.9.2,>=1.4 in c:\\users\\loganlv\\appdata\\local\\programs\\python\\python38\\lib\\site-packages (from statsmodels) (1.9.3)\n",
      "Requirement already satisfied: numpy>=1.18 in c:\\users\\loganlv\\appdata\\local\\programs\\python\\python38\\lib\\site-packages (from statsmodels) (1.23.3)\n",
      "Requirement already satisfied: pandas>=1.0 in c:\\users\\loganlv\\appdata\\local\\programs\\python\\python38\\lib\\site-packages (from statsmodels) (1.5.3)\n",
      "Requirement already satisfied: packaging>=21.3 in c:\\users\\loganlv\\appdata\\local\\programs\\python\\python38\\lib\\site-packages (from statsmodels) (21.3)\n",
      "Requirement already satisfied: pyparsing!=3.0.5,>=2.0.2 in c:\\users\\loganlv\\appdata\\local\\programs\\python\\python38\\lib\\site-packages (from packaging>=21.3->statsmodels) (3.0.9)\n",
      "Requirement already satisfied: pytz>=2020.1 in c:\\users\\loganlv\\appdata\\local\\programs\\python\\python38\\lib\\site-packages (from pandas>=1.0->statsmodels) (2022.7.1)\n",
      "Requirement already satisfied: python-dateutil>=2.8.1 in c:\\users\\loganlv\\appdata\\local\\programs\\python\\python38\\lib\\site-packages (from pandas>=1.0->statsmodels) (2.8.2)\n",
      "Requirement already satisfied: six in c:\\users\\loganlv\\appdata\\local\\programs\\python\\python38\\lib\\site-packages (from patsy>=0.5.2->statsmodels) (1.16.0)\n",
      "Installing collected packages: patsy, statsmodels\n",
      "Successfully installed patsy-0.5.3 statsmodels-0.14.0\n"
     ]
    },
    {
     "name": "stderr",
     "output_type": "stream",
     "text": [
      "\n",
      "[notice] A new release of pip is available: 23.0.1 -> 23.2.1\n",
      "[notice] To update, run: python.exe -m pip install --upgrade pip\n"
     ]
    }
   ],
   "source": [
    "!pip install statsmodels"
   ]
  },
  {
   "cell_type": "code",
   "execution_count": 2,
   "metadata": {},
   "outputs": [
    {
     "data": {
      "text/plain": [
       "5000"
      ]
     },
     "execution_count": 2,
     "metadata": {},
     "output_type": "execute_result"
    }
   ],
   "source": [
    "import matplotlib.pyplot as plt\n",
    "import numpy as np\n",
    "import pandas as pd\n",
    "from sklearn.linear_model import LogisticRegression\n",
    "from sklearn.metrics import classification_report, confusion_matrix\n",
    "import statsmodels.api as sta\n",
    "\n",
    "df = pd.read_csv(\"IBA6309 Week 1 Data.csv\", encoding='gbk')\n",
    "df.shape[0]"
   ]
  },
  {
   "cell_type": "code",
   "execution_count": 3,
   "metadata": {},
   "outputs": [
    {
     "data": {
      "text/html": [
       "<div>\n",
       "<style scoped>\n",
       "    .dataframe tbody tr th:only-of-type {\n",
       "        vertical-align: middle;\n",
       "    }\n",
       "\n",
       "    .dataframe tbody tr th {\n",
       "        vertical-align: top;\n",
       "    }\n",
       "\n",
       "    .dataframe thead th {\n",
       "        text-align: right;\n",
       "    }\n",
       "</style>\n",
       "<table border=\"1\" class=\"dataframe\">\n",
       "  <thead>\n",
       "    <tr style=\"text-align: right;\">\n",
       "      <th></th>\n",
       "      <th>age</th>\n",
       "      <th>instalments_amount</th>\n",
       "      <th>nominalrates</th>\n",
       "      <th>creditlevelasbuyer</th>\n",
       "      <th>numbercontact</th>\n",
       "      <th>numbercontact20s</th>\n",
       "    </tr>\n",
       "  </thead>\n",
       "  <tbody>\n",
       "    <tr>\n",
       "      <th>count</th>\n",
       "      <td>5000.000000</td>\n",
       "      <td>5000.00000</td>\n",
       "      <td>4997.000000</td>\n",
       "      <td>4031.000000</td>\n",
       "      <td>5000.000000</td>\n",
       "      <td>5000.000000</td>\n",
       "    </tr>\n",
       "    <tr>\n",
       "      <th>mean</th>\n",
       "      <td>27.675400</td>\n",
       "      <td>406201.42000</td>\n",
       "      <td>0.276058</td>\n",
       "      <td>53.119077</td>\n",
       "      <td>8.713000</td>\n",
       "      <td>7.092600</td>\n",
       "    </tr>\n",
       "    <tr>\n",
       "      <th>std</th>\n",
       "      <td>8.326146</td>\n",
       "      <td>130623.36024</td>\n",
       "      <td>0.085912</td>\n",
       "      <td>108.629757</td>\n",
       "      <td>23.833511</td>\n",
       "      <td>17.961619</td>\n",
       "    </tr>\n",
       "    <tr>\n",
       "      <th>min</th>\n",
       "      <td>18.000000</td>\n",
       "      <td>50000.00000</td>\n",
       "      <td>0.130080</td>\n",
       "      <td>0.000000</td>\n",
       "      <td>0.000000</td>\n",
       "      <td>0.000000</td>\n",
       "    </tr>\n",
       "    <tr>\n",
       "      <th>25%</th>\n",
       "      <td>21.000000</td>\n",
       "      <td>320000.00000</td>\n",
       "      <td>0.204560</td>\n",
       "      <td>0.000000</td>\n",
       "      <td>0.000000</td>\n",
       "      <td>0.000000</td>\n",
       "    </tr>\n",
       "    <tr>\n",
       "      <th>50%</th>\n",
       "      <td>25.000000</td>\n",
       "      <td>398000.00000</td>\n",
       "      <td>0.204579</td>\n",
       "      <td>14.000000</td>\n",
       "      <td>3.000000</td>\n",
       "      <td>3.000000</td>\n",
       "    </tr>\n",
       "    <tr>\n",
       "      <th>75%</th>\n",
       "      <td>32.000000</td>\n",
       "      <td>498000.00000</td>\n",
       "      <td>0.359347</td>\n",
       "      <td>58.000000</td>\n",
       "      <td>10.000000</td>\n",
       "      <td>8.000000</td>\n",
       "    </tr>\n",
       "    <tr>\n",
       "      <th>max</th>\n",
       "      <td>56.000000</td>\n",
       "      <td>869000.00000</td>\n",
       "      <td>0.494185</td>\n",
       "      <td>1830.000000</td>\n",
       "      <td>1169.000000</td>\n",
       "      <td>751.000000</td>\n",
       "    </tr>\n",
       "  </tbody>\n",
       "</table>\n",
       "</div>"
      ],
      "text/plain": [
       "               age  instalments_amount  nominalrates  creditlevelasbuyer  \\\n",
       "count  5000.000000          5000.00000   4997.000000         4031.000000   \n",
       "mean     27.675400        406201.42000      0.276058           53.119077   \n",
       "std       8.326146        130623.36024      0.085912          108.629757   \n",
       "min      18.000000         50000.00000      0.130080            0.000000   \n",
       "25%      21.000000        320000.00000      0.204560            0.000000   \n",
       "50%      25.000000        398000.00000      0.204579           14.000000   \n",
       "75%      32.000000        498000.00000      0.359347           58.000000   \n",
       "max      56.000000        869000.00000      0.494185         1830.000000   \n",
       "\n",
       "       numbercontact  numbercontact20s  \n",
       "count    5000.000000       5000.000000  \n",
       "mean        8.713000          7.092600  \n",
       "std        23.833511         17.961619  \n",
       "min         0.000000          0.000000  \n",
       "25%         0.000000          0.000000  \n",
       "50%         3.000000          3.000000  \n",
       "75%        10.000000          8.000000  \n",
       "max      1169.000000        751.000000  "
      ]
     },
     "execution_count": 3,
     "metadata": {},
     "output_type": "execute_result"
    }
   ],
   "source": [
    "# Q1 part 1: columns filled with numbers\n",
    "number_col = ['age', 'instalments_amount', 'nominalrates', 'creditlevelasbuyer', 'numbercontact', 'numbercontact20s']\n",
    "df.describe()[number_col]"
   ]
  },
  {
   "cell_type": "code",
   "execution_count": 7,
   "metadata": {},
   "outputs": [
    {
     "name": "stdout",
     "output_type": "stream",
     "text": [
      "False    0.8534\n",
      "True     0.1466\n",
      "Name: gender, dtype: float64\n",
      "\n",
      "False    0.580499\n",
      "True     0.419501\n",
      "Name: default, dtype: float64\n",
      "\n",
      "False    0.5586\n",
      "True     0.4414\n",
      "Name: deal, dtype: float64\n",
      "\n",
      "False    0.5078\n",
      "True     0.4922\n",
      "Name: highcontact, dtype: float64\n",
      "\n",
      "False    0.4978\n",
      "True     0.5022\n",
      "Name: highcontact20s, dtype: float64\n",
      "\n"
     ]
    }
   ],
   "source": [
    "# Q1 part 2: columns filled with categorical data\n",
    "cata_col = ['gender', 'default', 'deal', 'highcontact', 'highcontact20s']\n",
    "sum_table = df[cata_col].apply(pd.value_counts)\n",
    "for i in sum_table.columns:\n",
    "    print(sum_table[i].apply(lambda x: x / sum_table[i].sum()))\n",
    "    print('')"
   ]
  },
  {
   "cell_type": "code",
   "execution_count": null,
   "metadata": {},
   "outputs": [],
   "source": [
    "# Q2\n",
    "data_Q2 = df.dropna(subset=['creditlevelasbuyer', 'default'], how='any')\n"
   ]
  }
 ],
 "metadata": {
  "kernelspec": {
   "display_name": "Python 3",
   "language": "python",
   "name": "python3"
  },
  "language_info": {
   "codemirror_mode": {
    "name": "ipython",
    "version": 3
   },
   "file_extension": ".py",
   "mimetype": "text/x-python",
   "name": "python",
   "nbconvert_exporter": "python",
   "pygments_lexer": "ipython3",
   "version": "3.8.6"
  },
  "orig_nbformat": 4
 },
 "nbformat": 4,
 "nbformat_minor": 2
}
